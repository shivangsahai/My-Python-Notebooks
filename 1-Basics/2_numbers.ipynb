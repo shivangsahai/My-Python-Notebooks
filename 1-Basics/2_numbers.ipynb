{
 "cells": [
  {
   "cell_type": "markdown",
   "id": "922cc45e",
   "metadata": {},
   "source": [
    "# Python basics: Working with Numbers\n",
    "\n",
    "This notebook is an implementation of fundamental numerical operations in Python. It covers basic arithmetic, data types, rounding, type casting, scientific notation, and the use of the `math` module for more advanced functions. Each cell demonstrates a core concept for handling numbers effectively in Python."
   ]
  },
  {
   "cell_type": "code",
   "execution_count": 5,
   "id": "f9d731f2-37cf-4f73-96bd-d4c5d9074c3c",
   "metadata": {},
   "outputs": [
    {
     "data": {
      "text/plain": [
       "35.0"
      ]
     },
     "execution_count": 5,
     "metadata": {},
     "output_type": "execute_result"
    }
   ],
   "source": [
    "base = 10  # Calculating the Area of a Triangle \n",
    "height = 7  # Defines the base and height, then calculates the area using the standard formula. \n",
    "\n",
    "area = (base * height) /2 \n",
    "area"
   ]
  },
  {
   "cell_type": "code",
   "execution_count": 6,
   "id": "da16bede-1749-4586-87f7-93008121970e",
   "metadata": {},
   "outputs": [
    {
     "data": {
      "text/plain": [
       "float"
      ]
     },
     "execution_count": 6,
     "metadata": {},
     "output_type": "execute_result"
    }
   ],
   "source": [
    "type(area) #Checks the data type of the 'area' variable. NOTE : The standard division in Python 3 results in a float."
   ]
  },
  {
   "cell_type": "code",
   "execution_count": 7,
   "id": "c4e2b239-4855-4859-94c3-a737274bada4",
   "metadata": {},
   "outputs": [],
   "source": [
    "x = 10  # Basic Arithmetic Operations\n",
    "y = 3"
   ]
  },
  {
   "cell_type": "code",
   "execution_count": 8,
   "id": "229ba447-ad74-4ef4-8da5-f14d3a5875e0",
   "metadata": {},
   "outputs": [
    {
     "data": {
      "text/plain": [
       "13"
      ]
     },
     "execution_count": 8,
     "metadata": {},
     "output_type": "execute_result"
    }
   ],
   "source": [
    "x+y"
   ]
  },
  {
   "cell_type": "code",
   "execution_count": 9,
   "id": "8cf3be84-536b-4fcf-b037-3e6bc5577aa4",
   "metadata": {},
   "outputs": [
    {
     "data": {
      "text/plain": [
       "7"
      ]
     },
     "execution_count": 9,
     "metadata": {},
     "output_type": "execute_result"
    }
   ],
   "source": [
    "x-y"
   ]
  },
  {
   "cell_type": "code",
   "execution_count": 10,
   "id": "b01c5aaa-4bf5-4432-9906-1d334cb98b3c",
   "metadata": {},
   "outputs": [
    {
     "data": {
      "text/plain": [
       "3.3333333333333335"
      ]
     },
     "execution_count": 10,
     "metadata": {},
     "output_type": "execute_result"
    }
   ],
   "source": [
    "x/y"
   ]
  },
  {
   "cell_type": "code",
   "execution_count": 11,
   "id": "a04ad318-08ac-4da7-a43d-12758e6ac8a2",
   "metadata": {},
   "outputs": [
    {
     "data": {
      "text/plain": [
       "3"
      ]
     },
     "execution_count": 11,
     "metadata": {},
     "output_type": "execute_result"
    }
   ],
   "source": [
    "x//y  # Floor Division: Performs division and returns only the integer part of the result."
   ]
  },
  {
   "cell_type": "code",
   "execution_count": 12,
   "id": "e7205ae0-5730-44cb-bdb6-f98971e94474",
   "metadata": {},
   "outputs": [
    {
     "data": {
      "text/plain": [
       "1"
      ]
     },
     "execution_count": 12,
     "metadata": {},
     "output_type": "execute_result"
    }
   ],
   "source": [
    "x%y  ## # Modulo: Returns the remainder of the division between x and y."
   ]
  },
  {
   "cell_type": "code",
   "execution_count": 13,
   "id": "622c40c0-6f2c-4b11-9c69-a878558db942",
   "metadata": {},
   "outputs": [
    {
     "data": {
      "text/plain": [
       "1000"
      ]
     },
     "execution_count": 13,
     "metadata": {},
     "output_type": "execute_result"
    }
   ],
   "source": [
    "x**y   # Exponentiation: Calculates x raised to the power of y."
   ]
  },
  {
   "cell_type": "code",
   "execution_count": 14,
   "id": "1ae0e0e5-5db7-4404-9bd8-19285e4e17d8",
   "metadata": {},
   "outputs": [
    {
     "data": {
      "text/plain": [
       "10000.0"
      ]
     },
     "execution_count": 14,
     "metadata": {},
     "output_type": "execute_result"
    }
   ],
   "source": [
    "1e4 \t# Scientific Notation: Using 'e' for scientific notation to represent 1 * 10^4."
   ]
  },
  {
   "cell_type": "code",
   "execution_count": 15,
   "id": "e5f62b77-cd76-4d23-8a74-a28b655a118c",
   "metadata": {},
   "outputs": [
    {
     "data": {
      "text/plain": [
       "23000.0"
      ]
     },
     "execution_count": 15,
     "metadata": {},
     "output_type": "execute_result"
    }
   ],
   "source": [
    "foo = 2.3e4\n",
    "foo"
   ]
  },
  {
   "cell_type": "code",
   "execution_count": 16,
   "id": "9c2d2c02-9777-4066-9d84-65ad56918950",
   "metadata": {},
   "outputs": [
    {
     "data": {
      "text/plain": [
       "0.0023"
      ]
     },
     "execution_count": 16,
     "metadata": {},
     "output_type": "execute_result"
    }
   ],
   "source": [
    "bar = 2.3e-3\n",
    "bar"
   ]
  },
  {
   "cell_type": "code",
   "execution_count": 17,
   "id": "1e08b3a4-1b4a-4233-b313-31c499f4f288",
   "metadata": {},
   "outputs": [
    {
     "data": {
      "text/plain": [
       "20"
      ]
     },
     "execution_count": 17,
     "metadata": {},
     "output_type": "execute_result"
    }
   ],
   "source": [
    "round(20.1) # The round() function rounds a number to the nearest integer by default"
   ]
  },
  {
   "cell_type": "code",
   "execution_count": 18,
   "id": "ae65fe5e-6e56-4dee-b78b-5c5a604396d5",
   "metadata": {},
   "outputs": [
    {
     "data": {
      "text/plain": [
       "822.0"
      ]
     },
     "execution_count": 18,
     "metadata": {},
     "output_type": "execute_result"
    }
   ],
   "source": [
    "digit = 821.5456 # Rounding to 0 decimal places is equivalent to rounding to the nearest whole number.\n",
    "round(digit,0)"
   ]
  },
  {
   "cell_type": "code",
   "execution_count": 19,
   "id": "44e768ee-f57a-4e56-8f10-e7aa8d574b1e",
   "metadata": {},
   "outputs": [
    {
     "name": "stdout",
     "output_type": "stream",
     "text": [
      "821.5\n",
      "821.55\n"
     ]
    }
   ],
   "source": [
    "print(round(digit, 1))\n",
    "print(round(digit, 2))"
   ]
  },
  {
   "cell_type": "code",
   "execution_count": 20,
   "id": "fe4f1418-2761-4fb8-9727-347052a47fa7",
   "metadata": {},
   "outputs": [
    {
     "data": {
      "text/plain": [
       "621.0"
      ]
     },
     "execution_count": 20,
     "metadata": {},
     "output_type": "execute_result"
    }
   ],
   "source": [
    "food = \"120.34\"\n",
    "rent = \"500.66\"\n",
    "total = float(food) + float(rent)  # Type Casting: Converts string variables to floats to allow for mathematical calculations.\n",
    "total"
   ]
  },
  {
   "cell_type": "code",
   "execution_count": 21,
   "id": "1e6ea05e-4a2f-4534-9b0e-e5cc004e822d",
   "metadata": {},
   "outputs": [
    {
     "data": {
      "text/plain": [
       "4.0"
      ]
     },
     "execution_count": 21,
     "metadata": {},
     "output_type": "execute_result"
    }
   ],
   "source": [
    "import math # Imports the math module to access advanced mathematical functions.\n",
    "\n",
    "x=16\n",
    "math.sqrt(x)   # Calculates the square root of a number using the sqrt() function from the math module."
   ]
  },
  {
   "cell_type": "code",
   "execution_count": 22,
   "id": "2b159255-d571-4aa9-a6be-8d091da88459",
   "metadata": {},
   "outputs": [
    {
     "data": {
      "text/plain": [
       "3"
      ]
     },
     "execution_count": 22,
     "metadata": {},
     "output_type": "execute_result"
    }
   ],
   "source": [
    "math.floor(3.7)   # The floor() function rounds a number DOWN to the nearest integer."
   ]
  },
  {
   "cell_type": "code",
   "execution_count": 23,
   "id": "e5656729-a8ea-43f9-84a5-ddfd8c299708",
   "metadata": {},
   "outputs": [
    {
     "data": {
      "text/plain": [
       "4"
      ]
     },
     "execution_count": 23,
     "metadata": {},
     "output_type": "execute_result"
    }
   ],
   "source": [
    "math.ceil(3.7)  # The ceil() (ceiling) function rounds a number UP to the nearest integer"
   ]
  },
  {
   "cell_type": "code",
   "execution_count": 24,
   "id": "801f5b0e-ce5c-45d3-a6c7-4f5398e36651",
   "metadata": {},
   "outputs": [
    {
     "data": {
      "text/plain": [
       "['__doc__',\n",
       " '__loader__',\n",
       " '__name__',\n",
       " '__package__',\n",
       " '__spec__',\n",
       " 'acos',\n",
       " 'acosh',\n",
       " 'asin',\n",
       " 'asinh',\n",
       " 'atan',\n",
       " 'atan2',\n",
       " 'atanh',\n",
       " 'cbrt',\n",
       " 'ceil',\n",
       " 'comb',\n",
       " 'copysign',\n",
       " 'cos',\n",
       " 'cosh',\n",
       " 'degrees',\n",
       " 'dist',\n",
       " 'e',\n",
       " 'erf',\n",
       " 'erfc',\n",
       " 'exp',\n",
       " 'exp2',\n",
       " 'expm1',\n",
       " 'fabs',\n",
       " 'factorial',\n",
       " 'floor',\n",
       " 'fmod',\n",
       " 'frexp',\n",
       " 'fsum',\n",
       " 'gamma',\n",
       " 'gcd',\n",
       " 'hypot',\n",
       " 'inf',\n",
       " 'isclose',\n",
       " 'isfinite',\n",
       " 'isinf',\n",
       " 'isnan',\n",
       " 'isqrt',\n",
       " 'lcm',\n",
       " 'ldexp',\n",
       " 'lgamma',\n",
       " 'log',\n",
       " 'log10',\n",
       " 'log1p',\n",
       " 'log2',\n",
       " 'modf',\n",
       " 'nan',\n",
       " 'nextafter',\n",
       " 'perm',\n",
       " 'pi',\n",
       " 'pow',\n",
       " 'prod',\n",
       " 'radians',\n",
       " 'remainder',\n",
       " 'sin',\n",
       " 'sinh',\n",
       " 'sqrt',\n",
       " 'sumprod',\n",
       " 'tan',\n",
       " 'tanh',\n",
       " 'tau',\n",
       " 'trunc',\n",
       " 'ulp']"
      ]
     },
     "execution_count": 24,
     "metadata": {},
     "output_type": "execute_result"
    }
   ],
   "source": [
    "dir(math) # dir() lists all the available functions and attributes in the a module (math in this case)."
   ]
  },
  {
   "cell_type": "code",
   "execution_count": 25,
   "id": "c710315f-263b-4af1-9f7a-71633312c5ba",
   "metadata": {},
   "outputs": [
    {
     "data": {
      "text/plain": [
       "'101'"
      ]
     },
     "execution_count": 25,
     "metadata": {},
     "output_type": "execute_result"
    }
   ],
   "source": [
    "format(5, 'b') # Number Formatting: Uses the format() function to convert a number to its binary representation."
   ]
  }
 ],
 "metadata": {
  "kernelspec": {
   "display_name": "Python 3",
   "language": "python",
   "name": "python3"
  },
  "language_info": {
   "codemirror_mode": {
    "name": "ipython",
    "version": 3
   },
   "file_extension": ".py",
   "mimetype": "text/x-python",
   "name": "python",
   "nbconvert_exporter": "python",
   "pygments_lexer": "ipython3",
   "version": "3.12.5"
  }
 },
 "nbformat": 4,
 "nbformat_minor": 5
}
