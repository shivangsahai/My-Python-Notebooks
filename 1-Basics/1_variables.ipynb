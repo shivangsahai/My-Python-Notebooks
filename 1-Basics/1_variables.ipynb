{
 "cells": [
  {
   "cell_type": "markdown",
   "id": "d49c6131",
   "metadata": {},
   "source": [
    "## Variables are name memory locations used to store a value"
   ]
  },
  {
   "cell_type": "code",
   "execution_count": 2,
   "id": "f9d731f2-37cf-4f73-96bd-d4c5d9074c3c",
   "metadata": {},
   "outputs": [],
   "source": [
    "can = \"soda\""
   ]
  },
  {
   "cell_type": "code",
   "execution_count": 4,
   "id": "f6be0ced-d0be-4ed4-bd1f-7a6ca29c3dd9",
   "metadata": {},
   "outputs": [
    {
     "data": {
      "text/plain": [
       "'soda'"
      ]
     },
     "execution_count": 4,
     "metadata": {},
     "output_type": "execute_result"
    }
   ],
   "source": [
    "can"
   ]
  },
  {
   "cell_type": "code",
   "execution_count": 5,
   "id": "92e5c61e-b060-4be8-b937-755c1f0dc534",
   "metadata": {},
   "outputs": [
    {
     "name": "stdout",
     "output_type": "stream",
     "text": [
      "soda\n"
     ]
    }
   ],
   "source": [
    "print(can)"
   ]
  },
  {
   "cell_type": "code",
   "execution_count": null,
   "id": "dfb41121-bbc6-443e-97e6-8d21143146a9",
   "metadata": {},
   "outputs": [
    {
     "data": {
      "text/plain": [
       "str"
      ]
     },
     "execution_count": 6,
     "metadata": {},
     "output_type": "execute_result"
    }
   ],
   "source": [
    "type(can)  ## it returns the data type of the variable"
   ]
  },
  {
   "cell_type": "code",
   "execution_count": 7,
   "id": "b4903b34-d1f5-4ff4-9add-04ba19597a4d",
   "metadata": {},
   "outputs": [
    {
     "data": {
      "text/plain": [
       "int"
      ]
     },
     "execution_count": 7,
     "metadata": {},
     "output_type": "execute_result"
    }
   ],
   "source": [
    "pizza = 100\n",
    "type(pizza)"
   ]
  },
  {
   "cell_type": "code",
   "execution_count": 8,
   "id": "98358dfc-3c8a-466b-bb8e-b74c9911f149",
   "metadata": {},
   "outputs": [],
   "source": [
    "samosa = 20.5\n",
    "ice_cream = 100"
   ]
  },
  {
   "cell_type": "code",
   "execution_count": 10,
   "id": "86364c4a-5df1-488e-9e3a-38b91d2f431b",
   "metadata": {},
   "outputs": [
    {
     "data": {
      "text/plain": [
       "220.5"
      ]
     },
     "execution_count": 10,
     "metadata": {},
     "output_type": "execute_result"
    }
   ],
   "source": [
    "total = pizza + ice_cream + samosa\n",
    "total"
   ]
  },
  {
   "cell_type": "code",
   "execution_count": null,
   "id": "7bc6ae1f-0098-486b-94c5-443515587dfb",
   "metadata": {},
   "outputs": [
    {
     "data": {
      "text/plain": [
       "True"
      ]
     },
     "execution_count": 13,
     "metadata": {},
     "output_type": "execute_result"
    }
   ],
   "source": [
    "above_threshold = total > 200\n",
    "above_threshold  ## boolean datatype"
   ]
  },
  {
   "cell_type": "code",
   "execution_count": 15,
   "id": "ca1d29b3-649a-43c5-972e-daddcf1d265e",
   "metadata": {},
   "outputs": [],
   "source": [
    "foo = \"jalebi\" ## foo = object in which jalebi is stored. everything is an object in python.\n",
    "bar = foo ## storing reference of foo"
   ]
  },
  {
   "cell_type": "code",
   "execution_count": 17,
   "id": "ed876d02-6957-4602-a594-8ae1a5b4a3db",
   "metadata": {},
   "outputs": [
    {
     "data": {
      "text/plain": [
       "2320470655984"
      ]
     },
     "execution_count": 17,
     "metadata": {},
     "output_type": "execute_result"
    }
   ],
   "source": [
    "id(foo)  ##unique identifier for an object. like memory address in c"
   ]
  },
  {
   "cell_type": "code",
   "execution_count": null,
   "id": "fd7d47f1-4bc8-4f6c-8de1-713b8423b142",
   "metadata": {},
   "outputs": [
    {
     "data": {
      "text/plain": [
       "2320470655984"
      ]
     },
     "execution_count": 19,
     "metadata": {},
     "output_type": "execute_result"
    }
   ],
   "source": [
    "id(bar)  ## same id for both foo and bar"
   ]
  },
  {
   "cell_type": "code",
   "execution_count": 20,
   "id": "746b1cb7-a314-4bc2-9fd2-96d3867a11da",
   "metadata": {},
   "outputs": [
    {
     "data": {
      "text/plain": [
       "2320453437968"
      ]
     },
     "execution_count": 20,
     "metadata": {},
     "output_type": "execute_result"
    }
   ],
   "source": [
    "bar = samosa\n",
    "id(bar)"
   ]
  },
  {
   "cell_type": "code",
   "execution_count": null,
   "id": "56c07e08-fffe-417d-86e2-1eabc74b8050",
   "metadata": {},
   "outputs": [],
   "source": []
  }
 ],
 "metadata": {
  "kernelspec": {
   "display_name": "Python 3 (ipykernel)",
   "language": "python",
   "name": "python3"
  },
  "language_info": {
   "codemirror_mode": {
    "name": "ipython",
    "version": 3
   },
   "file_extension": ".py",
   "mimetype": "text/x-python",
   "name": "python",
   "nbconvert_exporter": "python",
   "pygments_lexer": "ipython3",
   "version": "3.12.5"
  }
 },
 "nbformat": 4,
 "nbformat_minor": 5
}
